{
 "cells": [
  {
   "cell_type": "code",
   "execution_count": 1,
   "metadata": {
    "scrolled": false
   },
   "outputs": [
    {
     "name": "stdout",
     "output_type": "stream",
     "text": [
      "Assignment 2.ipynb\n",
      "Assignment 3.ipynb\n",
      "Assignment 4-Copy1.ipynb\n",
      "Assignment 4.ipynb\n",
      "City_Zhvi_AllHomes.csv\n",
      "Energy Indicators.xls\n",
      "Untitled Folder/\n",
      "Untitled.ipynb\n",
      "Week 1.ipynb\n",
      "Week 2.ipynb\n",
      "Week 3.ipynb\n",
      "Week 4.ipynb\n",
      "cars.csv\n",
      "census.csv\n",
      "gdplev.xls\n",
      "grades.csv\n",
      "log.csv\n",
      "log.txt\n",
      "mpg.csv\n",
      "notebook.tar.gz\n",
      "tar: notebook.tar.gz: file changed as we read it\n",
      "olympics.csv\n",
      "readonly/\n",
      "readonly/log.txt\n",
      "readonly/Week 4.ipynb\n",
      "readonly/grades.csv\n",
      "readonly/Assignment 3.ipynb\n",
      "readonly/log.csv\n",
      "readonly/scimagojr-3.xlsx\n",
      "readonly/olympics.csv\n",
      "readonly/university_towns.txt\n",
      "readonly/mpg.csv\n",
      "readonly/Week 2.ipynb\n",
      "readonly/Week 1.ipynb\n",
      "readonly/Assignment 4.ipynb\n",
      "readonly/world_bank.csv\n",
      "readonly/cars.csv\n",
      "readonly/CO-EST2015-alldata.pdf\n",
      "readonly/census.csv\n",
      "readonly/Assignment 2.ipynb\n",
      "readonly/gdplev.xls\n",
      "readonly/City_Zhvi_AllHomes.csv\n",
      "readonly/Week 3.ipynb\n",
      "readonly/Energy Indicators.xls\n",
      "scimagojr-3.xlsx\n",
      "university_towns.txt\n",
      "world_bank.csv\n"
     ]
    }
   ],
   "source": [
    "!tar chvfz notebook.tar.gz *"
   ]
  },
  {
   "cell_type": "code",
   "execution_count": null,
   "metadata": {
    "collapsed": true
   },
   "outputs": [],
   "source": []
  }
 ],
 "metadata": {
  "kernelspec": {
   "display_name": "Python 3",
   "language": "python",
   "name": "python3"
  },
  "language_info": {
   "codemirror_mode": {
    "name": "ipython",
    "version": 3
   },
   "file_extension": ".py",
   "mimetype": "text/x-python",
   "name": "python",
   "nbconvert_exporter": "python",
   "pygments_lexer": "ipython3",
   "version": "3.6.2"
  }
 },
 "nbformat": 4,
 "nbformat_minor": 2
}
